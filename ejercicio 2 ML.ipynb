{
 "cells": [
  {
   "cell_type": "code",
   "execution_count": 1,
   "id": "e1291724-c780-4e81-9061-fcd274b1bfa9",
   "metadata": {},
   "outputs": [],
   "source": [
    "import requests\n",
    "from bs4 import BeautifulSoup\n",
    "from lxml import etree\n",
    "import pandas as pd"
   ]
  },
  {
   "cell_type": "code",
   "execution_count": 2,
   "id": "5ed0f365-61bf-4588-9cfc-f498a54927e8",
   "metadata": {},
   "outputs": [],
   "source": [
    "r=requests.get(\"https://listado.mercadolibre.com.co/cinta-kinesiologia\")\n",
    "soup=BeautifulSoup(r.content,\"html.parser\")"
   ]
  },
  {
   "cell_type": "code",
   "execution_count": 3,
   "id": "cd6cf852-a9ac-4beb-8f04-90b8e8e5cba6",
   "metadata": {},
   "outputs": [],
   "source": [
    "titulos=soup.find_all(\"h2\",attrs={\"class\",\"ui-search-item__title\"})"
   ]
  },
  {
   "cell_type": "code",
   "execution_count": 4,
   "id": "70c476dd-524d-418b-8251-017a0726034a",
   "metadata": {},
   "outputs": [],
   "source": [
    "titulos=[i.text for i in titulos]"
   ]
  },
  {
   "cell_type": "code",
   "execution_count": 5,
   "id": "670f1bd0-7c6e-4241-bb5a-8461aaa2436f",
   "metadata": {},
   "outputs": [],
   "source": [
    "url=soup.find_all(\"a\",attrs={\"class\",\"ui-search-item__group__element ui-search-link\"})"
   ]
  },
  {
   "cell_type": "code",
   "execution_count": 6,
   "id": "aea51a41-5b33-4e84-abb8-64cdc0a7f323",
   "metadata": {},
   "outputs": [],
   "source": [
    "url=[link.get(\"href\") for link in url]"
   ]
  },
  {
   "cell_type": "code",
   "execution_count": 7,
   "id": "e65a57d8-11bb-4fc3-9f3f-55c05d31d590",
   "metadata": {},
   "outputs": [],
   "source": [
    "#//li[@class='ui-search-layout__item']//div[@class='ui-search-price ui-search-price--size-medium']//div[@class=\"ui-search-price__second-line\"]/span[@class=\"andes-money-amount ui-search-price__part ui-search-price__part--medium andes-money-amount--cents-superscript\"]//span[@class=\"andes-money-amount__fraction\"]"
   ]
  },
  {
   "cell_type": "code",
   "execution_count": 8,
   "id": "fb04ff0d-5c64-4192-bda1-91e5214d1d65",
   "metadata": {},
   "outputs": [],
   "source": [
    "dom=etree.HTML(str(soup))\n",
    "precios=dom.xpath('//li[@class=\"ui-search-layout__item\"]//div[@class=\"ui-search-price ui-search-price--size-medium\"]//div[@class=\"ui-search-price__second-line\"]/span[@class=\"andes-money-amount ui-search-price__part ui-search-price__part--medium andes-money-amount--cents-superscript\"]//span[@class=\"andes-money-amount__fraction\"]')"
   ]
  },
  {
   "cell_type": "code",
   "execution_count": 9,
   "id": "e6f3be2e-1bd3-49f3-b725-5b182c77cd1f",
   "metadata": {},
   "outputs": [],
   "source": [
    "precios=[i.text for i in precios]"
   ]
  },
  {
   "cell_type": "code",
   "execution_count": 10,
   "id": "1b421f28-f85a-4d77-9caf-3c01b4ca9954",
   "metadata": {},
   "outputs": [],
   "source": [
    "#df=pd.DataFrame({\"Titulo\":titulos,\"Precios\":precios,\"URL\":url})"
   ]
  },
  {
   "cell_type": "code",
   "execution_count": 11,
   "id": "607e6b9c-098d-408d-a319-23fdd2c1abec",
   "metadata": {},
   "outputs": [],
   "source": [
    "#df.to_csv(\"ejemplo2ML.csv\")"
   ]
  },
  {
   "cell_type": "code",
   "execution_count": 38,
   "id": "510b0dd7-fa9f-47bc-8698-8e71987da821",
   "metadata": {},
   "outputs": [],
   "source": [
    "siguiente=dom.xpath('//div[@class=\"ui-search-pagination\"]/nav/li[contains(@class,\"--next\")]/a')[0].get(\"href\")"
   ]
  },
  {
   "cell_type": "code",
   "execution_count": 15,
   "id": "e78fc439-2dbe-4341-905e-c7333bdb9c39",
   "metadata": {},
   "outputs": [],
   "source": [
    "ini=int(soup.find(\"span\", attrs={\"class\":\"andes-pagination__link\"}).text)"
   ]
  },
  {
   "cell_type": "code",
   "execution_count": 35,
   "id": "0f6c46dd-2e06-4ac0-bd36-c14641ad6990",
   "metadata": {},
   "outputs": [],
   "source": [
    "cant=int(soup.find(\"li\",attrs={\"class\":\"andes-pagination__page-count\"}).text.replace(\"de \",\"\"))"
   ]
  },
  {
   "cell_type": "code",
   "execution_count": 44,
   "id": "7a20677f-2a8c-472e-986a-62dfedc54f44",
   "metadata": {},
   "outputs": [
    {
     "name": "stdout",
     "output_type": "stream",
     "text": [
      "1 40\n",
      "2 40\n",
      "3 40\n",
      "4 40\n",
      "5 40\n",
      "6 40\n",
      "7 40\n",
      "8 40\n",
      "9 40\n",
      "10 40\n",
      "11 40\n",
      "12 40\n",
      "13 40\n",
      "14 40\n",
      "15 40\n",
      "16 40\n",
      "17 40\n",
      "18 40\n",
      "19 40\n",
      "20 40\n",
      "21 40\n",
      "22 40\n",
      "23 40\n",
      "24 40\n",
      "25 40\n",
      "26 40\n",
      "27 40\n",
      "28 40\n",
      "29 40\n",
      "30 40\n",
      "31 40\n",
      "32 40\n",
      "33 40\n",
      "34 40\n",
      "35 40\n",
      "36 40\n",
      "37 40\n",
      "38 40\n",
      "39 40\n",
      "40 40\n"
     ]
    }
   ],
   "source": [
    "list_titulos=[]\n",
    "list_precios=[]\n",
    "list_urls=[]\n",
    "siguiente=\"https://listado.mercadolibre.com.co/cinta-kinesiologia\"\n",
    "while True:\n",
    "    r=requests.get(siguiente)\n",
    "    if r.status_code==200:\n",
    "        soup=BeautifulSoup(r.content,\"html.parser\")\n",
    "        #Titulos\n",
    "        titulos=soup.find_all(\"h2\",attrs={\"class\",\"ui-search-item__title\"})\n",
    "        titulos=[i.text for i in titulos]\n",
    "        list_titulos.extend(titulos)\n",
    "        #Precios\n",
    "        dom=etree.HTML(str(soup))\n",
    "        precios=dom.xpath('//li[@class=\"ui-search-layout__item\"]//div[@class=\"ui-search-price ui-search-price--size-medium\"]//div[@class=\"ui-search-price__second-line\"]/span[@class=\"andes-money-amount ui-search-price__part ui-search-price__part--medium andes-money-amount--cents-superscript\"]//span[@class=\"andes-money-amount__fraction\"]')\n",
    "        precios=[i.text for i in precios]\n",
    "        list_precios.extend(precios)\n",
    "        #Urls\n",
    "        url=soup.find_all(\"a\",attrs={\"class\",\"ui-search-item__group__element ui-search-link\"})\n",
    "        url=[link.get(\"href\") for link in url]\n",
    "        list_urls.extend(url)\n",
    "        ini=int(soup.find(\"span\", attrs={\"class\":\"andes-pagination__link\"}).text)\n",
    "        cant=int(soup.find(\"li\",attrs={\"class\":\"andes-pagination__page-count\"}).text.replace(\"de \",\"\"))\n",
    "    else:\n",
    "        break\n",
    "    print(ini,cant)\n",
    "    if ini==cant:\n",
    "        break\n",
    "    siguiente=dom.xpath('//div[@class=\"ui-search-pagination\"]/nav/li[contains(@class,\"--next\")]/a')[0].get(\"href\")"
   ]
  },
  {
   "cell_type": "code",
   "execution_count": 46,
   "id": "0b697b1f-1be9-4714-bb26-1843a4aff377",
   "metadata": {},
   "outputs": [
    {
     "name": "stdout",
     "output_type": "stream",
     "text": [
      "2208\n",
      "2208\n",
      "2208\n"
     ]
    }
   ],
   "source": [
    "print(len(list_titulos))\n",
    "print(len(list_precios))\n",
    "print(len(list_urls))"
   ]
  },
  {
   "cell_type": "code",
   "execution_count": 51,
   "id": "6d5e781c-0193-426d-94d1-018ed24d6f36",
   "metadata": {},
   "outputs": [],
   "source": [
    "df=pd.DataFrame({\"Titulo\":list_titulos,\"Precios\":list_precios,\"URL\":list_urls})"
   ]
  },
  {
   "cell_type": "code",
   "execution_count": 52,
   "id": "b6b8a422-2731-492f-b401-04e8f4b8625c",
   "metadata": {},
   "outputs": [
    {
     "data": {
      "text/html": [
       "<div>\n",
       "<style scoped>\n",
       "    .dataframe tbody tr th:only-of-type {\n",
       "        vertical-align: middle;\n",
       "    }\n",
       "\n",
       "    .dataframe tbody tr th {\n",
       "        vertical-align: top;\n",
       "    }\n",
       "\n",
       "    .dataframe thead th {\n",
       "        text-align: right;\n",
       "    }\n",
       "</style>\n",
       "<table border=\"1\" class=\"dataframe\">\n",
       "  <thead>\n",
       "    <tr style=\"text-align: right;\">\n",
       "      <th></th>\n",
       "      <th>Titulo</th>\n",
       "      <th>Precios</th>\n",
       "      <th>URL</th>\n",
       "    </tr>\n",
       "  </thead>\n",
       "  <tbody>\n",
       "    <tr>\n",
       "      <th>0</th>\n",
       "      <td>Venda Elastica Autoadhesiva Kinesiologica</td>\n",
       "      <td>7.800</td>\n",
       "      <td>https://articulo.mercadolibre.com.co/MCO-55083...</td>\n",
       "    </tr>\n",
       "    <tr>\n",
       "      <th>1</th>\n",
       "      <td>Cinta Kinesiologica Terapeutica Kinesiotape Sk...</td>\n",
       "      <td>18.000</td>\n",
       "      <td>https://www.mercadolibre.com.co/cinta-kinesiol...</td>\n",
       "    </tr>\n",
       "    <tr>\n",
       "      <th>2</th>\n",
       "      <td>Cinta Kinesiologica Terapeutica Kinesiotape Sk...</td>\n",
       "      <td>18.000</td>\n",
       "      <td>https://www.mercadolibre.com.co/cinta-kinesiol...</td>\n",
       "    </tr>\n",
       "    <tr>\n",
       "      <th>3</th>\n",
       "      <td>Cinta Kinesiologica Terapeutica Kinesiotape Sk...</td>\n",
       "      <td>18.000</td>\n",
       "      <td>https://www.mercadolibre.com.co/cinta-kinesiol...</td>\n",
       "    </tr>\n",
       "    <tr>\n",
       "      <th>4</th>\n",
       "      <td>Venda Elastica Autoadhesiva Kinesiologica</td>\n",
       "      <td>7.800</td>\n",
       "      <td>https://articulo.mercadolibre.com.co/MCO-60368...</td>\n",
       "    </tr>\n",
       "    <tr>\n",
       "      <th>...</th>\n",
       "      <td>...</td>\n",
       "      <td>...</td>\n",
       "      <td>...</td>\n",
       "    </tr>\n",
       "    <tr>\n",
       "      <th>2203</th>\n",
       "      <td>Juego De Cinta Para El Pecho Y 2 Piezas De Pét...</td>\n",
       "      <td>120.900</td>\n",
       "      <td>https://articulo.mercadolibre.com.co/MCO-92321...</td>\n",
       "    </tr>\n",
       "    <tr>\n",
       "      <th>2204</th>\n",
       "      <td>Cinta De Levantamiento De  S Para  S Grandes 2...</td>\n",
       "      <td>142.900</td>\n",
       "      <td>https://articulo.mercadolibre.com.co/MCO-92321...</td>\n",
       "    </tr>\n",
       "    <tr>\n",
       "      <th>2205</th>\n",
       "      <td>Cinta De Prevención De Am  Kt Performance, Dis...</td>\n",
       "      <td>120.900</td>\n",
       "      <td>https://articulo.mercadolibre.com.co/MCO-92321...</td>\n",
       "    </tr>\n",
       "    <tr>\n",
       "      <th>2206</th>\n",
       "      <td>Paquete De 2 Cinta De Kinesiología Blanca Para...</td>\n",
       "      <td>164.900</td>\n",
       "      <td>https://articulo.mercadolibre.com.co/MCO-92321...</td>\n",
       "    </tr>\n",
       "    <tr>\n",
       "      <th>2207</th>\n",
       "      <td>Kinesiology Tape Athletic Tape  K Tape, Lychee...</td>\n",
       "      <td>191.900</td>\n",
       "      <td>https://articulo.mercadolibre.com.co/MCO-92321...</td>\n",
       "    </tr>\n",
       "  </tbody>\n",
       "</table>\n",
       "<p>2208 rows × 3 columns</p>\n",
       "</div>"
      ],
      "text/plain": [
       "                                                 Titulo  Precios  \\\n",
       "0             Venda Elastica Autoadhesiva Kinesiologica    7.800   \n",
       "1     Cinta Kinesiologica Terapeutica Kinesiotape Sk...   18.000   \n",
       "2     Cinta Kinesiologica Terapeutica Kinesiotape Sk...   18.000   \n",
       "3     Cinta Kinesiologica Terapeutica Kinesiotape Sk...   18.000   \n",
       "4             Venda Elastica Autoadhesiva Kinesiologica    7.800   \n",
       "...                                                 ...      ...   \n",
       "2203  Juego De Cinta Para El Pecho Y 2 Piezas De Pét...  120.900   \n",
       "2204  Cinta De Levantamiento De  S Para  S Grandes 2...  142.900   \n",
       "2205  Cinta De Prevención De Am  Kt Performance, Dis...  120.900   \n",
       "2206  Paquete De 2 Cinta De Kinesiología Blanca Para...  164.900   \n",
       "2207  Kinesiology Tape Athletic Tape  K Tape, Lychee...  191.900   \n",
       "\n",
       "                                                    URL  \n",
       "0     https://articulo.mercadolibre.com.co/MCO-55083...  \n",
       "1     https://www.mercadolibre.com.co/cinta-kinesiol...  \n",
       "2     https://www.mercadolibre.com.co/cinta-kinesiol...  \n",
       "3     https://www.mercadolibre.com.co/cinta-kinesiol...  \n",
       "4     https://articulo.mercadolibre.com.co/MCO-60368...  \n",
       "...                                                 ...  \n",
       "2203  https://articulo.mercadolibre.com.co/MCO-92321...  \n",
       "2204  https://articulo.mercadolibre.com.co/MCO-92321...  \n",
       "2205  https://articulo.mercadolibre.com.co/MCO-92321...  \n",
       "2206  https://articulo.mercadolibre.com.co/MCO-92321...  \n",
       "2207  https://articulo.mercadolibre.com.co/MCO-92321...  \n",
       "\n",
       "[2208 rows x 3 columns]"
      ]
     },
     "execution_count": 52,
     "metadata": {},
     "output_type": "execute_result"
    }
   ],
   "source": [
    "df"
   ]
  },
  {
   "cell_type": "code",
   "execution_count": null,
   "id": "ad88d5d8-544a-4ad8-9c7c-6ba1f1b8241e",
   "metadata": {},
   "outputs": [],
   "source": []
  }
 ],
 "metadata": {
  "kernelspec": {
   "display_name": "Python 3 (ipykernel)",
   "language": "python",
   "name": "python3"
  },
  "language_info": {
   "codemirror_mode": {
    "name": "ipython",
    "version": 3
   },
   "file_extension": ".py",
   "mimetype": "text/x-python",
   "name": "python",
   "nbconvert_exporter": "python",
   "pygments_lexer": "ipython3",
   "version": "3.11.4"
  }
 },
 "nbformat": 4,
 "nbformat_minor": 5
}
