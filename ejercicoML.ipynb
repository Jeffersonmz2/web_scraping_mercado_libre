{
 "cells": [
  {
   "cell_type": "code",
   "execution_count": 22,
   "id": "6299b9a6-daa5-47c6-b859-7d93851a04f1",
   "metadata": {},
   "outputs": [],
   "source": [
    "import requests\n",
    "from bs4 import BeautifulSoup\n",
    "            "
   ]
  },
  {
   "cell_type": "code",
   "execution_count": 23,
   "id": "2edf3e5b-c812-4bd8-8546-a7d09345e3d5",
   "metadata": {},
   "outputs": [
    {
     "name": "stdin",
     "output_type": "stream",
     "text": [
      "what're you looking for?:  futbol\n"
     ]
    }
   ],
   "source": [
    "search=input(\"what're you looking for?: \")\n",
    "r=requests.get(\"https://listado.mercadolibre.com.co/{}#D[A:{}]\".format(search.replace(\" \",\"_\"),search))\n",
    "contenido=r.content\n",
    "soup=BeautifulSoup(contenido,\"html.parser\")"
   ]
  },
  {
   "cell_type": "markdown",
   "id": "a7107947-4d2f-4648-a917-eab8533b75a6",
   "metadata": {},
   "source": [
    "# crear un Array"
   ]
  },
  {
   "cell_type": "code",
   "execution_count": 24,
   "id": "87d43fad-f4f2-497a-ab92-63ba851235b3",
   "metadata": {},
   "outputs": [],
   "source": [
    "last_page=soup.find(\"li\",{\"class\":'andes-pagination__page-count'}).text\n",
    "#ultima página\n",
    "try:\n",
    "    last_page_modificate=int(last_page.replace(\"de \",\"\"))\n",
    "except:\n",
    "    pass\n",
    "products_array=[]    \n",
    "#se cambia la url para interaccionar con las siguientes paginas de la busqueda, el aumento va desde 50 en 50    \n",
    "for page in range(0,last_page_modificate):\n",
    "    result=requests.get('https://listado.mercadolibre.com.co/{}_Desde_{}_NoIndex_True'.format(search.replace(\" \",\"_\"),(page*50)+1))\n",
    "    page_content=result.content\n",
    "    page_soup=BeautifulSoup(page_content,\"html.parser\")\n",
    "    \n",
    "    all_divs=page_soup.find_all(\"div\",{\"class\":'andes-card'})\n",
    "    \n",
    "    for item in all_divs:\n",
    "        data={}\n",
    "        data[\"nombre articulo\"]=item.find(\"h2\",{\"class\":\"ui-search-item__title\"}).text\n",
    "        data[\"precio\"]=item.find(\"span\",{\"class\":\"andes-money-amount__fraction\"}).text\n",
    "        data[\"link\"]=item.find(\"a\",{\"class\":\"ui-search-item__group__element\"})[\"href\"]\n",
    "        products_array.append(data)\n",
    "   "
   ]
  },
  {
   "cell_type": "code",
   "execution_count": 25,
   "id": "f581d4dc-e819-4e99-bba6-ed22242bab3f",
   "metadata": {},
   "outputs": [
    {
     "data": {
      "text/plain": [
       "2234"
      ]
     },
     "execution_count": 25,
     "metadata": {},
     "output_type": "execute_result"
    }
   ],
   "source": [
    "len( products_array)"
   ]
  },
  {
   "cell_type": "code",
   "execution_count": 26,
   "id": "3589a33e-b777-493b-8e30-990cdfd1ecc0",
   "metadata": {},
   "outputs": [],
   "source": [
    "import pandas as pd\n",
    "df=pd.DataFrame(products_array)"
   ]
  },
  {
   "cell_type": "code",
   "execution_count": 27,
   "id": "c65e9fb6-0403-4c78-a840-4ebe11e56f8c",
   "metadata": {},
   "outputs": [
    {
     "data": {
      "text/html": [
       "<div>\n",
       "<style scoped>\n",
       "    .dataframe tbody tr th:only-of-type {\n",
       "        vertical-align: middle;\n",
       "    }\n",
       "\n",
       "    .dataframe tbody tr th {\n",
       "        vertical-align: top;\n",
       "    }\n",
       "\n",
       "    .dataframe thead th {\n",
       "        text-align: right;\n",
       "    }\n",
       "</style>\n",
       "<table border=\"1\" class=\"dataframe\">\n",
       "  <thead>\n",
       "    <tr style=\"text-align: right;\">\n",
       "      <th></th>\n",
       "      <th>nombre articulo</th>\n",
       "      <th>precio</th>\n",
       "      <th>link</th>\n",
       "    </tr>\n",
       "  </thead>\n",
       "  <tbody>\n",
       "    <tr>\n",
       "      <th>0</th>\n",
       "      <td>Zapatilla Torretin Pro Golty Spectrum Para Niños</td>\n",
       "      <td>151.900</td>\n",
       "      <td>https://articulo.mercadolibre.com.co/MCO-14722...</td>\n",
       "    </tr>\n",
       "    <tr>\n",
       "      <th>1</th>\n",
       "      <td>Zapatilla Torretin Pro Golty Origen</td>\n",
       "      <td>130.000</td>\n",
       "      <td>https://articulo.mercadolibre.com.co/MCO-14691...</td>\n",
       "    </tr>\n",
       "    <tr>\n",
       "      <th>2</th>\n",
       "      <td>Pelota Futbol Golty Iniciacion Color Blanco</td>\n",
       "      <td>18.900</td>\n",
       "      <td>https://www.mercadolibre.com.co/pelota-futbol-...</td>\n",
       "    </tr>\n",
       "    <tr>\n",
       "      <th>3</th>\n",
       "      <td>Set - 300 Unidades Banderas De Colores Banderi...</td>\n",
       "      <td>126.900</td>\n",
       "      <td>https://click1.mercadolibre.com.co/mclics/clic...</td>\n",
       "    </tr>\n",
       "    <tr>\n",
       "      <th>4</th>\n",
       "      <td>Balón De Fútbol #5 Messi, Inter Miami, Mls</td>\n",
       "      <td>65.900</td>\n",
       "      <td>https://click1.mercadolibre.com.co/mclics/clic...</td>\n",
       "    </tr>\n",
       "    <tr>\n",
       "      <th>...</th>\n",
       "      <td>...</td>\n",
       "      <td>...</td>\n",
       "      <td>...</td>\n",
       "    </tr>\n",
       "    <tr>\n",
       "      <th>2229</th>\n",
       "      <td>Balón Fútbol Mundial Rusia 2018 +licencia Y Se...</td>\n",
       "      <td>699.990</td>\n",
       "      <td>https://articulo.mercadolibre.com.co/MCO-10584...</td>\n",
       "    </tr>\n",
       "    <tr>\n",
       "      <th>2230</th>\n",
       "      <td>Guayos Runic Dalet Tpu Para Niños</td>\n",
       "      <td>169.990</td>\n",
       "      <td>https://articulo.mercadolibre.com.co/MCO-89167...</td>\n",
       "    </tr>\n",
       "    <tr>\n",
       "      <th>2231</th>\n",
       "      <td>Balon Dos Bocas Fondo Redondo Laboratorio 100 Ml</td>\n",
       "      <td>34.000</td>\n",
       "      <td>https://articulo.mercadolibre.com.co/MCO-90798...</td>\n",
       "    </tr>\n",
       "    <tr>\n",
       "      <th>2232</th>\n",
       "      <td>Balón De Fútbol Hybrid Zoom Sports #5 Professi...</td>\n",
       "      <td>139.900</td>\n",
       "      <td>https://articulo.mercadolibre.com.co/MCO-12316...</td>\n",
       "    </tr>\n",
       "    <tr>\n",
       "      <th>2233</th>\n",
       "      <td>Balon De Futbol Pro Golty Ultrasoft No. 5</td>\n",
       "      <td>135.000</td>\n",
       "      <td>https://articulo.mercadolibre.com.co/MCO-12054...</td>\n",
       "    </tr>\n",
       "  </tbody>\n",
       "</table>\n",
       "<p>2234 rows × 3 columns</p>\n",
       "</div>"
      ],
      "text/plain": [
       "                                        nombre articulo   precio  \\\n",
       "0      Zapatilla Torretin Pro Golty Spectrum Para Niños  151.900   \n",
       "1                   Zapatilla Torretin Pro Golty Origen  130.000   \n",
       "2           Pelota Futbol Golty Iniciacion Color Blanco   18.900   \n",
       "3     Set - 300 Unidades Banderas De Colores Banderi...  126.900   \n",
       "4            Balón De Fútbol #5 Messi, Inter Miami, Mls   65.900   \n",
       "...                                                 ...      ...   \n",
       "2229  Balón Fútbol Mundial Rusia 2018 +licencia Y Se...  699.990   \n",
       "2230                  Guayos Runic Dalet Tpu Para Niños  169.990   \n",
       "2231   Balon Dos Bocas Fondo Redondo Laboratorio 100 Ml   34.000   \n",
       "2232  Balón De Fútbol Hybrid Zoom Sports #5 Professi...  139.900   \n",
       "2233          Balon De Futbol Pro Golty Ultrasoft No. 5  135.000   \n",
       "\n",
       "                                                   link  \n",
       "0     https://articulo.mercadolibre.com.co/MCO-14722...  \n",
       "1     https://articulo.mercadolibre.com.co/MCO-14691...  \n",
       "2     https://www.mercadolibre.com.co/pelota-futbol-...  \n",
       "3     https://click1.mercadolibre.com.co/mclics/clic...  \n",
       "4     https://click1.mercadolibre.com.co/mclics/clic...  \n",
       "...                                                 ...  \n",
       "2229  https://articulo.mercadolibre.com.co/MCO-10584...  \n",
       "2230  https://articulo.mercadolibre.com.co/MCO-89167...  \n",
       "2231  https://articulo.mercadolibre.com.co/MCO-90798...  \n",
       "2232  https://articulo.mercadolibre.com.co/MCO-12316...  \n",
       "2233  https://articulo.mercadolibre.com.co/MCO-12054...  \n",
       "\n",
       "[2234 rows x 3 columns]"
      ]
     },
     "execution_count": 27,
     "metadata": {},
     "output_type": "execute_result"
    }
   ],
   "source": [
    "df"
   ]
  },
  {
   "cell_type": "code",
   "execution_count": null,
   "id": "41948265-b528-4972-b509-ab7b3c81c1ad",
   "metadata": {},
   "outputs": [],
   "source": []
  }
 ],
 "metadata": {
  "kernelspec": {
   "display_name": "Python 3 (ipykernel)",
   "language": "python",
   "name": "python3"
  },
  "language_info": {
   "codemirror_mode": {
    "name": "ipython",
    "version": 3
   },
   "file_extension": ".py",
   "mimetype": "text/x-python",
   "name": "python",
   "nbconvert_exporter": "python",
   "pygments_lexer": "ipython3",
   "version": "3.11.4"
  }
 },
 "nbformat": 4,
 "nbformat_minor": 5
}
